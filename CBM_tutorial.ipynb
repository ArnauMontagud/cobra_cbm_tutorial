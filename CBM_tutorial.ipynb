{
 "cells": [
  {
   "cell_type": "code",
   "execution_count": 1,
   "metadata": {},
   "outputs": [],
   "source": [
    "import cobra\n",
    "import cobra.core\n",
    "from cobra.core import Model, Reaction, Metabolite\n",
    "from IPython.display import Image"
   ]
  },
  {
   "cell_type": "markdown",
   "metadata": {},
   "source": [
    "![title](img/toy_model.png)\n",
    "\n",
    "Figura 2. Modelo metabólico de juguete compuesto por tres metabolito (A, B y C), cuatro reacciones internas\n",
    "(v1-v4) y tres flujos de intercambio (b1-b3). a) representación gráfica del modelo; b) representación matricial de\n",
    "las ecuaciones de balance. N tambien llamada S es la matriz estequiométrica."
   ]
  },
  {
   "cell_type": "code",
   "execution_count": 2,
   "metadata": {},
   "outputs": [],
   "source": [
    "model = Model('Toymodel')"
   ]
  },
  {
   "cell_type": "code",
   "execution_count": 3,
   "metadata": {},
   "outputs": [],
   "source": [
    "A = Metabolite(\"A\")\n",
    "A.compartment = 'cytosol'\n",
    "B = Metabolite(\"B\")\n",
    "B.compartment = 'cytosol'"
   ]
  },
  {
   "cell_type": "markdown",
   "metadata": {},
   "source": [
    "### Excercise 1.1\n",
    "\n",
    "Create Metabolite C\n"
   ]
  },
  {
   "cell_type": "code",
   "execution_count": 4,
   "metadata": {},
   "outputs": [],
   "source": [
    "######################\n",
    "# Create Metabolite C\n",
    "######################\n",
    "C = Metabolite(\"C\")"
   ]
  },
  {
   "cell_type": "code",
   "execution_count": 5,
   "metadata": {},
   "outputs": [],
   "source": [
    "## Add the metabolites to the model\n",
    "model.add_metabolites([A, B, C])"
   ]
  },
  {
   "cell_type": "code",
   "execution_count": 6,
   "metadata": {},
   "outputs": [
    {
     "name": "stdout",
     "output_type": "stream",
     "text": [
      "frozenset()\n"
     ]
    }
   ],
   "source": [
    "# Print the reactions\n",
    "print(model.metabolites.A.reactions)"
   ]
  },
  {
   "cell_type": "code",
   "execution_count": 7,
   "metadata": {},
   "outputs": [],
   "source": [
    "# Creating the reactions\n",
    "\n",
    "# Create reaction with id b1\n",
    "b1 = Reaction(\"b1\")\n",
    "\n",
    "# To add metabolites to the reaction passing\n",
    "# a dictionary withs metabolites as the keys\n",
    "# and the stoichiometric coefficients as values\n",
    "b1.add_metabolites({A: 1})\n",
    "\n",
    "# the same is done for the other reactions\n",
    "b2 = Reaction(\"b2\")\n",
    "b2.add_metabolites({B: -1})\n",
    "\n",
    "b3 = Reaction(\"b3\")\n",
    "b3.add_metabolites({C: -1})\n",
    "\n",
    "v1 = Reaction(\"v1\")\n",
    "v1.add_metabolites({A:-1, B:1})\n",
    "\n",
    "v2 = Reaction(\"v2\")\n",
    "v2.add_metabolites({A:-1, C:1})\n",
    "\n",
    "v3 = Reaction(\"v3\")\n",
    "v3.add_metabolites({A:1, C:-1})\n",
    "\n",
    "# Create v4 (Excercise 1.2)"
   ]
  },
  {
   "cell_type": "markdown",
   "metadata": {},
   "source": [
    "### Excercice 1.2: \n",
    "\n",
    "Create reactions v4 (and add its metabolites"
   ]
  },
  {
   "cell_type": "code",
   "execution_count": 8,
   "metadata": {},
   "outputs": [],
   "source": [
    "########################\n",
    "# Create reactions v4\n",
    "########################\n",
    "\n",
    "v4 = Reaction(\"v4\")\n",
    "v4.add_metabolites({B:1, C:-1})"
   ]
  },
  {
   "cell_type": "code",
   "execution_count": 9,
   "metadata": {},
   "outputs": [],
   "source": [
    "# Adding the reactions to de toy model\n",
    "\n",
    "model.add_reactions([b1,b2,b3,v1,v2,v3,v4])"
   ]
  },
  {
   "cell_type": "markdown",
   "metadata": {},
   "source": [
    "### Write the model in SBML format\n",
    "\n",
    "1. First import the corresponding function\n",
    "2. write the model\n",
    "3. Optional you can inspecte the SBML using some plain text editor."
   ]
  },
  {
   "cell_type": "code",
   "execution_count": 10,
   "metadata": {},
   "outputs": [],
   "source": [
    "import cobra.io\n",
    "from cobra.io import write_sbml_model\n",
    "\n",
    "# Saving the model to a file in sbml format\n",
    "write_sbml_model(model, \"out/toymodel.sbml\")"
   ]
  },
  {
   "cell_type": "markdown",
   "metadata": {},
   "source": [
    "### Optimización – calculo de una distribución de flujos óptima\n",
    "El problema es encontrar encontrar un conjunto de valor de flujo (o velocidades) para cada reacción de la red, que sea compatible con las restricciones del análisis estequiométrico (i.e. estado estacionario, reversibilidades y cotas) y que sea óptima (maxima o minimal) respecto a algún objetivo definido."
   ]
  },
  {
   "cell_type": "code",
   "execution_count": 11,
   "metadata": {},
   "outputs": [
    {
     "data": {
      "text/plain": [
       "b1    1.0\n",
       "b2    1.0\n",
       "b3    0.0\n",
       "v1    1.0\n",
       "v2    0.0\n",
       "v3    0.0\n",
       "v4    0.0\n",
       "Name: fluxes, dtype: float64"
      ]
     },
     "execution_count": 11,
     "metadata": {},
     "output_type": "execute_result"
    }
   ],
   "source": [
    "# Antes de optimizar debemos establecer la condiciones de crecimiento\n",
    "# es decir las velocidades máximas de los flujos de entrada\n",
    "model.reactions.b1.upper_bound = 1\n",
    "\n",
    "# Luego indicamos la velocidad que deseamos optimizar (i.e. nuestro \n",
    "# objetivo) que para nuestro caso será optimizar el flujo de b2\n",
    "# Para esto asignamos 1 al coeficiente objetivo de b2\n",
    "model.reactions.b2.objective_coefficient = 1\n",
    "\n",
    "# To compute and FBA on the model we use the following function:\n",
    "solution = model.optimize()\n",
    "\n",
    "# the results is a solution object which contains\n",
    "solution.fluxes.to_csv(\"out/toymodel_fba.tsv\", sep=\"\\t\")\n",
    "\n",
    "# Para ver la solución  y como valor el flujo de dicha reacción en la soluión\n",
    "# optima encontrada\n",
    "# solution.fluxes"
   ]
  },
  {
   "cell_type": "markdown",
   "metadata": {},
   "source": [
    "# Parte 2 - Constraint-based modeling at genome-scale\n",
    "\n",
    "En esta sección emplearemos un modelo metabólico de E. coli reconstruido a escala genómica denominado iJO1366.\n",
    "\n",
    "2. Lectura de fichero SBML e inspección general del modelo\n",
    "\n",
    "importar cobra.io si no fue importada (ver 1.2).\n",
    "Lectura del fichero SBML (modelo metabólico a escala genómica de Escherichia coli). Para esto deberán tener descargado el fichero iJO1366.xml"
   ]
  },
  {
   "cell_type": "code",
   "execution_count": 12,
   "metadata": {},
   "outputs": [],
   "source": [
    "from cobra.io import read_sbml_model\n",
    "\n",
    "# Ruta a donde se hayan descargado el archivo iJO1366.xml)\n",
    "sbml_fname = './data/iJO1366.xml'\n",
    "\n",
    "# lectura del model desde un fichero habiendo importado previamente la función\n",
    "model = read_sbml_model(sbml_fname)"
   ]
  },
  {
   "cell_type": "markdown",
   "metadata": {
    "collapsed": true
   },
   "source": [
    "### Inspección del Modelo (Reacciones)\n",
    "\n",
    "Para verificar que el modelo ha sido cargado de forma correcta podéis probar el siguiente comando: print model\n",
    "\n",
    "El ordenador debe imprimir en pantalla: iJO1366\n",
    "Extraer propiedades generales del modelo empleando las siguiente líneas:\n",
    "1. Listar reacciones: model.reactions (estos es una lista, usar un for con prints)\n",
    "2. Número total de reacciones: print len(model.reactions)\n",
    "3. Seleccionar varias reacciones y ver: su nombre, formula, gen/es codificante/s, reversibilidad y las cotas (upper y lower bounds). Por ejemplo para la NADH16pp (HINT: la tecla tab autocompleta y muestra opciones)\n",
    "\n",
    "<br>\n",
    "Comparar la reacciones con su descripción en Ecocyc:\n",
    "<br>\n",
    "http://ecocyc.org/ECOLI/NEW-IMAGE?type=NIL&object=EG12084&redirect=T"
   ]
  },
  {
   "cell_type": "code",
   "execution_count": 13,
   "metadata": {},
   "outputs": [],
   "source": [
    "### TODO\n",
    "\n"
   ]
  },
  {
   "cell_type": "markdown",
   "metadata": {},
   "source": [
    "### Inspección del Modelo (Metaboitos)\n",
    "\n",
    "* Listar metabolitos: model.metabolites\n",
    "* Número total de metabolitos: print len(model.metabolites)\n",
    "* Seleccionar varios metabolitos y ver: su nombre, el compartimiento y las reacciones en las que participa. Por ejemplo para la g6p_c:\n",
    "\n"
   ]
  },
  {
   "cell_type": "code",
   "execution_count": 14,
   "metadata": {},
   "outputs": [],
   "source": [
    "### TODO\n",
    "\n",
    "\n",
    "\n"
   ]
  },
  {
   "cell_type": "markdown",
   "metadata": {},
   "source": [
    "## Parte 2.2 Cálculo del modo de flujos óptimo, utilizando Flux Balance Analysis (FBA)\n",
    "\n",
    "1. Realizar la optimización (maximizar) la producción de biomasa. \n",
    "2. La condición de borde que el modelo tiene por defecto, permite una entrada ilimitada de oxigeno pero hay un limite en la entrada de glucosa fijado en -10. \n",
    "3. Verificar lo anterior mirando los atributos lower_bound de las reacciones de intercambio: EX\\_glc\\_e\\_ y EX\\_o2\\_e\\_."
   ]
  },
  {
   "cell_type": "code",
   "execution_count": 15,
   "metadata": {},
   "outputs": [],
   "source": [
    "### TODO\n",
    "\n",
    "\n"
   ]
  },
  {
   "cell_type": "markdown",
   "metadata": {},
   "source": [
    "### Identificar en el listado generado anteriormente: \n",
    "* el valor que toman los flujos de intercambio de la glucosa (EX_glc_e_) y el oxígeno (EX_o2_e_) en la solución óptima calculada\n",
    "* compararlo con el valor de los lower_bound de ambas reacciones.\n",
    "\n",
    "HINT: usar el objeto solución -> solution.fluxes.reaction_id"
   ]
  },
  {
   "cell_type": "code",
   "execution_count": 16,
   "metadata": {},
   "outputs": [],
   "source": [
    "## TODO\n",
    "\n",
    "\n"
   ]
  },
  {
   "cell_type": "markdown",
   "metadata": {},
   "source": [
    "### 2.3 - Visualizando Modos de Flujo Óptimos\n",
    "Para poder realizar esta parte vamos a emplear una herramienta de visualización web Pero esta herramienta requiere que le demos un fichero con las reacciones del modelo y los valores de los flujos de la solución que deseamos visualizar. De forma que hace falta guardar los resultados en un fichero de texto en formato json y que nos descarguemos el fichero a nuestro ordenador personal.\n",
    "\n",
    "Para facilitar la visualización vamos a emplear un método alternativo de \n",
    "optimización que se llama pFBA:\n",
    "* pFBA Basicamente es un FBA que luego elimina todos los ciclos que aparezcan en una solución\n",
    "* Para esto se debe importar la función pfba que se encuentra en el módulo:\n",
    "\n",
    "from cobra.flux_analysis import pfba\n",
    "<br>\n",
    "Una vez salvada la solución a formato json visualizar la distribución en la herramienta escher:\n",
    "* http://escher.github.io/\n"
   ]
  },
  {
   "cell_type": "code",
   "execution_count": 17,
   "metadata": {},
   "outputs": [],
   "source": [
    "from cobra.flux_analysis import pfba\n",
    "import json\n",
    "\n",
    "# luego guardamos la solución en una variable de tipo diccionario\n",
    "wt_solution = pfba(model)\n",
    "solution_dict = dict(wt_solution.fluxes)\n",
    "\n",
    "# abrimos un fichero de nombre wt_solution.json en modo escritura\n",
    "# escribimos el en el fichero y cerramos el fichero \n",
    "with open('wt_pfba_solution.json','w') as fh:\n",
    "    json.dump(solution_dict, fh)"
   ]
  },
  {
   "cell_type": "markdown",
   "metadata": {},
   "source": [
    "## Parte 3\n",
    "\n",
    "### 3.1 – Knockout in silico\n",
    "Un experimento de knockout in silico consiste en fijar a cero el flujo a través de todas las reacciones que cataliza el gen para el cual estamos simulando el knockout. "
   ]
  },
  {
   "cell_type": "markdown",
   "metadata": {},
   "source": [
    "Ejemplo 1: el gen que codifica para la actividad Citrato Sintasa es el gen b0720\n",
    "Para poder ver dicha asociación basta ver los siguiente:"
   ]
  },
  {
   "cell_type": "code",
   "execution_count": 18,
   "metadata": {},
   "outputs": [
    {
     "name": "stdout",
     "output_type": "stream",
     "text": [
      "ID:CS | Nombre: citrate synthase\n",
      "ID:b0720\n"
     ]
    }
   ],
   "source": [
    "# seleccionamos el gene\n",
    "gene =  model.genes.b0720\n",
    "# seleccionamos las reacciones asociadas a dicho gen\n",
    "# imprimimos las reacciones asociadas a b0720\n",
    "for r in gene.reactions: \n",
    "    print(\"ID:%s | Nombre: %s\" % (r.id,r.name))\n",
    "\n",
    "# Lo mismo comenzando desde la reacción.\n",
    "reaction = model.reactions.CS\n",
    "for g in reaction.genes: \n",
    "    print(\"ID:%s\" % g.id)"
   ]
  },
  {
   "cell_type": "markdown",
   "metadata": {},
   "source": [
    "### Ejercicio 3.1\n",
    "\n",
    "Como vimos en en la teoría\n",
    "* simular un knockout in-silico de un gen equivale a fijar a 0 las cotas de la/las reacciones que codifique \n",
    "* para lo cual utilizamos los atributos lower_bound y  upper_bound\n",
    "* a continuación optimizamos -> model.optimize()\n",
    "* finalmente evaluamos la velocidad de crecimiento del mutante"
   ]
  },
  {
   "cell_type": "code",
   "execution_count": 19,
   "metadata": {},
   "outputs": [],
   "source": [
    "## TODO\n",
    "\n",
    "# Entonces simular un knockout in silico de b0720 equivale a fijar a 0 la reacción CS para lo cual utilizamos \n",
    "# los atributos upper_bound (ya que el lower_bound es 0 porque la reacción es irreversible):\n",
    "\n",
    "\n",
    "# Buscamos el modo de flujo que maximiza el crecimiento\n",
    "\n",
    "\n",
    "\n",
    "# miramos el valor del crecimiento predicho, que sucede?\n",
    "# Hint: solution.fluxes.Ec_biomass_iJO1366_WT_53p95M\n",
    "\n",
    "\n"
   ]
  },
  {
   "cell_type": "markdown",
   "metadata": {},
   "source": [
    "¿El experimento in silico que nos indica? ¿El knockout para b0720 es letal?\n",
    "<br>\n",
    "Compara  con el resultado in vivo en esta base de datos:\n",
    "* https://ecocyc.org/gene?orgid=ECOLI&id=EG10402"
   ]
  },
  {
   "cell_type": "markdown",
   "metadata": {},
   "source": [
    "# 3.2 – Knockout in silico: Large Experiment\n",
    "    \n",
    "* Cobra tiene implementada una función para realizar los experimentos de knockout. \n",
    "* En esta sección emplearemos dicha función para realizar un experimento de knockout sobre todos los genes que incluye el modelo y esto lo compararemos con resultados in vivo\n",
    "* Primero se requiere cargar los siguiente módulos:"
   ]
  },
  {
   "cell_type": "code",
   "execution_count": 20,
   "metadata": {},
   "outputs": [],
   "source": [
    "from cobra.flux_analysis import single_gene_deletion\n",
    "\n",
    "# volvemos a cargar el modelo ya que lo hemos modificado\n",
    "model = read_sbml_model('./data/iJO1366.xml')\n",
    "\n",
    "threshold = 0.05"
   ]
  },
  {
   "cell_type": "code",
   "execution_count": 21,
   "metadata": {},
   "outputs": [],
   "source": [
    "# experimento in-silico (tarda unos minutos)\n",
    "knockout = single_gene_deletion(model)\n",
    "index_mapper = {i:list(i)[0] for i in knockout.index}\n",
    "knockout = knockout.rename(mapper=index_mapper, axis=0)"
   ]
  },
  {
   "cell_type": "code",
   "execution_count": 22,
   "metadata": {},
   "outputs": [
    {
     "name": "stdout",
     "output_type": "stream",
     "text": [
      "invivo_non_lethals: 1129\n",
      "invivo_lethals: 238\n",
      "insilico_non_lethals: 1106\n",
      "insilico_lethals: 261\n"
     ]
    }
   ],
   "source": [
    "# Lectura de la lista de genes letales in vivo\n",
    "import json\n",
    "fname = './data/m9_invivo_lethals.json'\n",
    "with open(fname) as fh:\n",
    "    invivo_lethals = json.load(fh)\n",
    "    invivo_lethals = set(invivo_lethals)\n",
    "\n",
    "# crear un “set” con los nombres de todos los genes del modelo\n",
    "all_genes = set([g.id for g in model.genes])\n",
    "\n",
    "# aplicamos una operación de conjuntos (set) para obtener los genes no \n",
    "# letales in-vivo\n",
    "invivo_non_lethals = all_genes - invivo_lethals\n",
    "print(\"invivo_non_lethals:\", len(invivo_non_lethals))\n",
    "print(\"invivo_lethals:\", len(invivo_lethals))\n",
    "\n",
    "# Obtención de no letales in silico que son los que si predicen crecimiento\n",
    "insilico_non_lethals = set(knockout.index[knockout.growth > threshold])\n",
    "print(\"insilico_non_lethals:\", len(insilico_non_lethals))\n",
    "\n",
    "# Obtención de letales in silico filtrando lo genes cuyo knockout causo una # caída en la producción de biomasa por debajo de un umbrar (< 5% del optimo)\n",
    "insilico_lethals = set(knockout.index[knockout.growth< threshold])\n",
    "print(\"insilico_lethals:\", len(insilico_lethals))"
   ]
  },
  {
   "cell_type": "code",
   "execution_count": 23,
   "metadata": {},
   "outputs": [],
   "source": [
    "# https://en.wikipedia.org/wiki/Receiver_operating_characteristic\n",
    "\n",
    "# El conjunto de True Negatives, son aquellos genes predichos como NO Escenciales\n",
    "# y el dato experimental indica que el gene es essencial en las condiciones de estudio\n",
    "TN = insilico_non_lethals & invivo_non_lethals\n",
    "\n",
    "# El conjunto de True Negatives, son aquellos genes predichos como Escenciales\n",
    "# y el dato experimental indica que el gene es essencial en las condiciones de estudio\n",
    "TP =  insilico_lethals & invivo_lethals\n",
    "\n",
    "# Los False Negatives, son aquellos genes predichos como NO Escenciales\n",
    "# pero que el dato experimental indica que el gene es essencial en las condiciones de estudio\n",
    "FN = insilico_non_lethals & invivo_lethals\n",
    "\n",
    "# Los False positives, son aquellos genes predichos como Escenciales\n",
    "# pero que el dato experimental indica que el gene NO es essencial en las condiciones de estudio\n",
    "FP = insilico_lethals & invivo_non_lethals\n",
    "\n",
    "P = TP | FN\n",
    "N = TN | FP"
   ]
  },
  {
   "cell_type": "code",
   "execution_count": 25,
   "metadata": {},
   "outputs": [
    {
     "data": {
      "text/plain": [
       "0.8749085588880761"
      ]
     },
     "execution_count": 25,
     "metadata": {},
     "output_type": "execute_result"
    }
   ],
   "source": [
    "# https://en.wikipedia.org/wiki/Receiver_operating_characteristic\n",
    "\n",
    "# sensitivity, recall, hit rate, or true positive rate (TPR)\n",
    "sensitivity = len(TP) / len(P) \n",
    "\n",
    "# specificity, selectivity or true negative rate (TNR)\n",
    "specificity = len(TN) / len(N)\n",
    "\n",
    "# precision or positive predictive value (PPV)\n",
    "precision = len(TP) / (len(TP) + len(FP)) \n",
    "\n",
    "# accuracy (ACC)\n",
    "accuracy = (len(TP) + len(TN)) / (len(P) + len(N))"
   ]
  }
 ],
 "metadata": {
  "kernelspec": {
   "display_name": "Python 3",
   "language": "python",
   "name": "python3"
  },
  "language_info": {
   "codemirror_mode": {
    "name": "ipython",
    "version": 3
   },
   "file_extension": ".py",
   "mimetype": "text/x-python",
   "name": "python",
   "nbconvert_exporter": "python",
   "pygments_lexer": "ipython3",
   "version": "3.6.7"
  }
 },
 "nbformat": 4,
 "nbformat_minor": 1
}
